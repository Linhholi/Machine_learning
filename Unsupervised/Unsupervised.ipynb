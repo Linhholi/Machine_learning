{
 "cells": [
  {
   "attachments": {},
   "cell_type": "markdown",
   "metadata": {},
   "source": [
    "Data Acquisition and Preparation"
   ]
  },
  {
   "cell_type": "code",
   "execution_count": 2,
   "metadata": {},
   "outputs": [
    {
     "name": "stdout",
     "output_type": "stream",
     "text": [
      "<class 'pandas.core.frame.DataFrame'>\n",
      "RangeIndex: 167 entries, 0 to 166\n",
      "Data columns (total 10 columns):\n",
      " #   Column      Non-Null Count  Dtype  \n",
      "---  ------      --------------  -----  \n",
      " 0   country     167 non-null    object \n",
      " 1   child_mort  167 non-null    float64\n",
      " 2   exports     167 non-null    float64\n",
      " 3   health      167 non-null    float64\n",
      " 4   imports     167 non-null    float64\n",
      " 5   income      167 non-null    int64  \n",
      " 6   inflation   167 non-null    float64\n",
      " 7   life_expec  167 non-null    float64\n",
      " 8   total_fer   167 non-null    float64\n",
      " 9   gdpp        167 non-null    int64  \n",
      "dtypes: float64(7), int64(2), object(1)\n",
      "memory usage: 13.2+ KB\n",
      "None\n",
      "               country  child_mort  exports  health  imports  income  \\\n",
      "0          Afghanistan        90.2     10.0    7.58     44.9    1610   \n",
      "1              Albania        16.6     28.0    6.55     48.6    9930   \n",
      "2              Algeria        27.3     38.4    4.17     31.4   12900   \n",
      "3               Angola       119.0     62.3    2.85     42.9    5900   \n",
      "4  Antigua and Barbuda        10.3     45.5    6.03     58.9   19100   \n",
      "\n",
      "   inflation  life_expec  total_fer   gdpp  \n",
      "0       9.44        56.2       5.82    553  \n",
      "1       4.49        76.3       1.65   4090  \n",
      "2      16.10        76.5       2.89   4460  \n",
      "3      22.40        60.1       6.16   3530  \n",
      "4       1.44        76.8       2.13  12200  \n"
     ]
    }
   ],
   "source": [
    "import pandas as pd\n",
    "df = pd.read_csv('Country-data.csv')\n",
    "print(df.info())\n",
    "print(df.head(5))"
   ]
  },
  {
   "cell_type": "code",
   "execution_count": 7,
   "metadata": {},
   "outputs": [
    {
     "name": "stdout",
     "output_type": "stream",
     "text": [
      "Total unique values in country  167\n",
      "Minimum and maximum value of child_mort respectively:  2.6 , 208.0\n",
      "Minimum and maximum value of exports respectively:  0.109 , 200.0\n",
      "Minimum and maximum value of health respectively:  1.81 , 17.9\n",
      "Minimum and maximum value of imports respectively:  0.0659 , 174.0\n",
      "Minimum and maximum value of income respectively:  609 , 125000\n",
      "Minimum and maximum value of inflation respectively:  -4.21 , 104.0\n",
      "Minimum and maximum value of life_expec respectively:  32.1 , 82.8\n",
      "Minimum and maximum value of total_fer respectively:  1.15 , 7.49\n",
      "Minimum and maximum value of gdpp respectively:  231 , 105000\n"
     ]
    }
   ],
   "source": [
    "print('Total unique values in country ',df['country'].nunique())\n",
    "print(\"Minimum and maximum value of child_mort respectively: \",df.child_mort.min(),\",\",df.child_mort.max())\n",
    "print(\"Minimum and maximum value of exports respectively: \",df.exports.min(),\",\",df.exports.max())\n",
    "print(\"Minimum and maximum value of health respectively: \",df.health.min(),\",\",df.health.max())\n",
    "print(\"Minimum and maximum value of imports respectively: \",df.imports.min(),\",\",df.imports.max())\n",
    "print(\"Minimum and maximum value of income respectively: \",df.income.min(),\",\",df.income.max())\n",
    "print(\"Minimum and maximum value of inflation respectively: \",df.inflation.min(),\",\",df.inflation.max())\n",
    "print(\"Minimum and maximum value of life_expec respectively: \",df.life_expec.min(),\",\",df.life_expec.max())\n",
    "print(\"Minimum and maximum value of total_fer respectively: \",df.total_fer.min(),\",\",df.total_fer.max())\n",
    "print(\"Minimum and maximum value of gdpp respectively: \",df.gdpp.min(),\",\",df.gdpp.max())"
   ]
  },
  {
   "attachments": {},
   "cell_type": "markdown",
   "metadata": {},
   "source": [
    "- KNN\n",
    "- Clustering\n",
    "- DBSCAN\n",
    "- SVD\n",
    "- Latent Dirichlet Analysis"
   ]
  },
  {
   "cell_type": "code",
   "execution_count": null,
   "metadata": {},
   "outputs": [],
   "source": []
  }
 ],
 "metadata": {
  "kernelspec": {
   "display_name": "Python 3.9.7 64-bit",
   "language": "python",
   "name": "python3"
  },
  "language_info": {
   "codemirror_mode": {
    "name": "ipython",
    "version": 3
   },
   "file_extension": ".py",
   "mimetype": "text/x-python",
   "name": "python",
   "nbconvert_exporter": "python",
   "pygments_lexer": "ipython3",
   "version": "3.9.7"
  },
  "orig_nbformat": 4,
  "vscode": {
   "interpreter": {
    "hash": "aee8b7b246df8f9039afb4144a1f6fd8d2ca17a180786b69acc140d282b71a49"
   }
  }
 },
 "nbformat": 4,
 "nbformat_minor": 2
}
